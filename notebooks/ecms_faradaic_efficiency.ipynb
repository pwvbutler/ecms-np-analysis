{
 "cells": [
  {
   "cell_type": "markdown",
   "metadata": {},
   "source": [
    "# Set the file paths\n",
    "In the cell with TSV_FILE_PATH set the path to tsv file and the path to the files corresponding to the correct experiment number. Only the prefix is required and not the full file names. Afterwards run the cell to set the variables (Press play button while selected).\n",
    "\n",
    "**NOTE:** the paths should either be absolute paths (c:/Users/enzomo/Downloads/enzo_data/...) or from the current directory. Execute the cell below to see the current directory (can use this to creat absolute paths if needed). Alternatively, on windows can right-click on file and select \"copy as path\""
   ]
  },
  {
   "cell_type": "code",
   "execution_count": null,
   "metadata": {},
   "outputs": [],
   "source": [
    "import os\n",
    "\n",
    "os.getcwd()"
   ]
  },
  {
   "cell_type": "code",
   "execution_count": null,
   "metadata": {},
   "outputs": [],
   "source": [
    "# FILL in path to tsv file\n",
    "TSV_FILE_PATH=\"/Users/patbu/Desktop/ecms_np_analysis/example/20240905_VSP_Au_4nm_2_5min_1M_KHCO3/2024-09-10 16_49_03 Full Test/2024-09-10 16_49_03 Full Test.tsv\"\n",
    "\n",
    "# FILL in path to experiment number files\n",
    "EXPT_NUM_FILE_PATH=\"/Users/patbu/Desktop/ecms_np_analysis/example/20240905_VSP_Au_4nm_2_5min_1M_KHCO3/03__02_CP\""
   ]
  },
  {
   "cell_type": "code",
   "execution_count": null,
   "metadata": {},
   "outputs": [],
   "source": [
    "mass_to_species = {\n",
    "    \"M2\": \"H$_{2}$\",\n",
    "    \"M4\": \"He\",\n",
    "    \"M15\": \"CH$_{4}$\",\n",
    "    \"M18\": \"H$_{2}$O\",\n",
    "    \"M26\": \"C$_{2}$H$_{2}$\",\n",
    "    \"M28\": \"CO/N$_{2}$\",\n",
    "    \"M32\": \"O$_{2}$\",\n",
    "    \"M40\": \"Ar\",\n",
    "    \"M44\": \"CO$_{2}$\",\n",
    "}\n",
    "TSV_FILENAME = os.path.basename(TSV_FILE_PATH)[:-4]\n",
    "TSV_FILE_DIR = os.path.dirname(TSV_FILE_PATH)"
   ]
  },
  {
   "cell_type": "code",
   "execution_count": null,
   "metadata": {},
   "outputs": [],
   "source": [
    "from ixdat import Measurement\n",
    "\n",
    "\n",
    "ms = Measurement.read(\n",
    "    TSV_FILE_PATH,\n",
    "    reader=\"zilien\",\n",
    "    technique=\"MS\",\n",
    ")\n",
    "\n",
    "# ms.plot()\n",
    "\n",
    "ec = Measurement.read_set(\n",
    "    EXPT_NUM_FILE_PATH,\n",
    "    suffix=\".mpt\",\n",
    ")\n",
    "\n",
    "ecms = ec + ms\n",
    "# ecms[\"raw_potential\"]._data = ecms[\"<Ewe/V>\"]._data # fix for raw_potential being always 0 (not read correctly) \n",
    "ecms[\"raw_potential\"]._data = ecms[\"<Ewe/V>\"]._data\n"
   ]
  },
  {
   "cell_type": "code",
   "execution_count": null,
   "metadata": {},
   "outputs": [],
   "source": [
    "# reset the time origin to zero if needed\n",
    "ecms.t[0]\n",
    "ecms.tstamp += ecms.t[0] - 1"
   ]
  },
  {
   "cell_type": "markdown",
   "metadata": {},
   "source": [
    "# Plot ecms\n",
    "can save/copy plot by hovering over it "
   ]
  },
  {
   "cell_type": "code",
   "execution_count": null,
   "metadata": {},
   "outputs": [],
   "source": [
    "axes = ecms.plot()\n",
    "fig = axes[0].get_figure()\n",
    "fig.set_size_inches(\n",
    "    7, # figure width\n",
    "    8, # figure height\n",
    "    # forward=True\n",
    ")\n",
    "\n",
    "handles, labels = axes[0].get_legend_handles_labels()\n",
    "new_labels = [ mass_to_species[x] for x in labels]\n",
    "new_labels\n",
    "\n",
    "axes[0].legend(\n",
    "    loc=(1.05, 0.5), # uncomment to change legend position\n",
    "    labels=new_labels,\n",
    ")\n",
    "\n",
    "\n",
    "\n",
    "fig.suptitle(TSV_FILENAME)"
   ]
  },
  {
   "cell_type": "markdown",
   "metadata": {},
   "source": [
    "Alternatively uncomment the following to save in same folder as tsv file"
   ]
  },
  {
   "cell_type": "code",
   "execution_count": null,
   "metadata": {},
   "outputs": [],
   "source": [
    "# fig.savefig(os.path.join(TSV_FILE_DIR, \"ecms_plot.png\"), dpi=300, bbox_inches='tight',)"
   ]
  },
  {
   "cell_type": "markdown",
   "metadata": {},
   "source": [
    "# FILL IN: Parameters for Calculating Faradaic Efficiency\n",
    "set the parameters required for processing the data below. Importantly require the step length for each applied current and the steps (starting from step 0) to calculate faradaic efficiency of CO2RR. Also, provide either the calibration factor and MS background current for H2 reduction (HER) or else the steps/times that should be used to calculate it. Optionally provide the start time (if not 0) and the time prior to end of step to average over for calculations."
   ]
  },
  {
   "cell_type": "code",
   "execution_count": null,
   "metadata": {},
   "outputs": [],
   "source": [
    "STEP_TIME = 300 # seconds\n",
    "\n",
    "# for calculating the calibration factor from MS current to raw/cell current\n",
    "# fill in one of the following\n",
    "HER_ONLY_STEPS = [3, 4, 5,] # step numbers in sequence/program, first step is 1\n",
    "HER_CALIBRATION_FACTOR = None\n",
    "\n",
    "# fill in one of the following\n",
    "HER_BACKGROUND_TIME_INTERVAL = [5100, 5200] # for calculating the background current of the ms\n",
    "HER_BACKGROUND_CURRENT = None\n",
    "\n",
    "TIME_AMOUNT_AVERAGE_OVER = 100 # seconds\n",
    "START_TIME = 0 # if want to start steps from a time other that t=0\n",
    "\n",
    "\n",
    "# parameter check\n",
    "assert HER_ONLY_STEPS or HER_CALIBRATION_FACTOR is not None, \"must provide HER calibration factor OR the step numbers for calculating it\"\n",
    "assert HER_BACKGROUND_TIME_INTERVAL or HER_BACKGROUND_CURRENT is not None, \"must provide H2 MS background current OR time interval to calculate it\""
   ]
  },
  {
   "cell_type": "markdown",
   "metadata": {},
   "source": [
    "### Optional: Add electrode details"
   ]
  },
  {
   "cell_type": "code",
   "execution_count": null,
   "metadata": {},
   "outputs": [],
   "source": [
    "# ecms[\"raw_potential\"]._data = meas[\"<Ewe/V>\"]._data\n",
    "ecms.calibrate( # do this first\n",
    "    RE_vs_RHE=0, # if use RHE reference electrode assume that the potential difference between our reference electrode and the RHE potential is zero.\n",
    "    A_el=0.196, # We know the geometric area of the electrode, so we can normalize the current: it’s a 5mm diameter disk, area = 0.196 cm^2\n",
    "    R_Ohm=0, # We did not determine the Ohmic drop, but we will assume that it was 0 \n",
    ")"
   ]
  },
  {
   "cell_type": "markdown",
   "metadata": {},
   "source": [
    "### Calculate HER background current if required"
   ]
  },
  {
   "cell_type": "code",
   "execution_count": null,
   "metadata": {},
   "outputs": [],
   "source": [
    "if HER_BACKGROUND_CURRENT is None:\n",
    "    times, currents = ecms.grab(item=\"M2 [A]\", tspan=HER_BACKGROUND_TIME_INTERVAL)\n",
    "    # M2_ave_current = M2_current.mean()\n",
    "    HER_BACKGROUND_CURRENT = currents.mean()\n",
    "\n",
    "print(\"HER MS background current:\", HER_BACKGROUND_CURRENT)"
   ]
  },
  {
   "cell_type": "markdown",
   "metadata": {},
   "source": [
    "### Calculate HER calibration factor if required using HER only steps"
   ]
  },
  {
   "cell_type": "code",
   "execution_count": null,
   "metadata": {},
   "outputs": [],
   "source": [
    "if HER_CALIBRATION_FACTOR is None:\n",
    "    \n",
    "    axes = ecms.plot()\n",
    "    cal_result_H2, ax_b2 = ecms.ecms_calibration_curve(\n",
    "        mol=\"H2\",\n",
    "        mass=\"M2\",\n",
    "        n_el=-2, # remember to use the correct sign: minus for reduction reactions, plus for oxidation reactions\n",
    "        tspan_list=[\n",
    "            (START_TIME + STEP_TIME*(x)-TIME_AMOUNT_AVERAGE_OVER, START_TIME + STEP_TIME*(x))\n",
    "            for x in HER_ONLY_STEPS\n",
    "        ],\n",
    "        ax=\"new\",\n",
    "        axes_measurement=axes, # to highlight the integrated areas on the plot defined above\n",
    "        return_ax = True # if True, returns the calibration curve axis as a second element\n",
    "    )\n",
    "    print(cal_result_H2) \n",
    "    HER_CALIBRATION_FACTOR=cal_result_H2.F # The attribute cal_result_H2.F is the slope of the calibration curve, which is the sensitivity factor in C/mol. \n",
    "\n"
   ]
  },
  {
   "cell_type": "markdown",
   "metadata": {},
   "source": [
    "## Fit conversion between MS current and Cell current using HER only steps"
   ]
  },
  {
   "cell_type": "code",
   "execution_count": null,
   "metadata": {},
   "outputs": [],
   "source": [
    "import numpy as np\n",
    "import pandas as pd \n",
    "import matplotlib.pyplot as plt\n",
    "\n",
    "HER_calibration_intervals = [\n",
    "    (START_TIME + STEP_TIME*(x)-TIME_AMOUNT_AVERAGE_OVER, START_TIME + STEP_TIME*(x))\n",
    "    for x in HER_ONLY_STEPS\n",
    "]\n",
    "\n",
    "raw_currents, HER_MS_currents = [], []\n",
    "\n",
    "for interval in HER_calibration_intervals:\n",
    "    raw_currents.append(\n",
    "        ecms.grab(item=\"raw_current\", tspan=interval)[1].mean(),\n",
    "    )\n",
    "    HER_MS_currents.append(\n",
    "        ecms.grab(item=\"M2 [A]\", tspan=interval)[1].mean(),\n",
    "    )\n",
    "\n",
    "raw_currents = np.array(raw_currents)\n",
    "HER_MS_currents = np.array(HER_MS_currents) - HER_BACKGROUND_CURRENT\n",
    "\n",
    "plt.scatter(\n",
    "    HER_MS_currents,\n",
    "    raw_currents,\n",
    ")\n",
    "\n",
    "m, b = np.polyfit(\n",
    "    HER_MS_currents,\n",
    "    raw_currents,\n",
    "    1\n",
    ")\n",
    "\n",
    "plt.plot(\n",
    "    HER_MS_currents,\n",
    "    [m*v+b for v in HER_MS_currents]\n",
    ")\n",
    "\n",
    "print(\"y=mx+b fit coefs:\", m, b)"
   ]
  },
  {
   "cell_type": "markdown",
   "metadata": {},
   "source": [
    "# Calculate CO2RR Faradaic Efficiencies"
   ]
  },
  {
   "cell_type": "code",
   "execution_count": null,
   "metadata": {},
   "outputs": [],
   "source": [
    "FE_data = []\n",
    "\n",
    "all_intervals = [\n",
    "    (START_TIME + STEP_TIME*(x+1)-TIME_AMOUNT_AVERAGE_OVER, START_TIME + STEP_TIME*(x+1))\n",
    "    for x in range(ecms.selector._data[-1] + 1)\n",
    "]\n",
    "\n",
    "for interval in all_intervals:\n",
    "    raw_current = ecms.grab(item=\"raw_current\", tspan=interval)[1].mean()\n",
    "    HER_MS_current = ecms.grab(item=\"M2 [A]\", tspan=interval)[1].mean() - HER_BACKGROUND_CURRENT\n",
    "\n",
    "    HER_cell_current = HER_MS_current * m + b\n",
    "    CO2RR_cell_current = raw_current - HER_cell_current\n",
    "\n",
    "    # don't calculate Faradaic efficiency if current is close to background\n",
    "    if (\n",
    "        HER_MS_current < HER_BACKGROUND_CURRENT or\n",
    "        np.isclose(HER_MS_current, HER_BACKGROUND_CURRENT, rtol=0.10, atol=1e-14)\n",
    "    ):\n",
    "        CO2RR_cell_current = 0.00\n",
    "        faradaic_efficiency = 0.0\n",
    "    else:\n",
    "        faradaic_efficiency = (CO2RR_cell_current / raw_current) * 100\n",
    "\n",
    "    FE_data.append([\n",
    "        interval[0], interval[1],\n",
    "        raw_current,\n",
    "        HER_MS_current,\n",
    "        HER_cell_current,\n",
    "        CO2RR_cell_current,\n",
    "        faradaic_efficiency\n",
    "    ])\n",
    "\n",
    "FE_data = pd.DataFrame(\n",
    "    FE_data,\n",
    "    columns=[\n",
    "        \"start (s)\", \"end (s)\",\n",
    "        \"total cell current (A)\",\n",
    "        \"HER MS current (A)\",\n",
    "        \"HER cell current (A)\",\n",
    "        \"CO2RR cell current (A)\",\n",
    "        \"Faradaic Efficiency (%)\"]\n",
    ")"
   ]
  },
  {
   "cell_type": "code",
   "execution_count": null,
   "metadata": {},
   "outputs": [],
   "source": [
    "FE_data"
   ]
  },
  {
   "cell_type": "markdown",
   "metadata": {},
   "source": [
    "uncomment following line to save csv file in same folder as tsv file"
   ]
  },
  {
   "cell_type": "code",
   "execution_count": null,
   "metadata": {},
   "outputs": [],
   "source": [
    "# FE_data.to_csv(os.path.join(TSV_FILE_DIR, \"CO2RR_faradaic_efficiencies.csv\"), index=False)"
   ]
  },
  {
   "cell_type": "markdown",
   "metadata": {},
   "source": [
    "### MS currents csv file"
   ]
  },
  {
   "cell_type": "code",
   "execution_count": null,
   "metadata": {},
   "outputs": [],
   "source": [
    "mass_list = sorted(ecms.mass_list, key=lambda x: float(x[1:]))\n",
    "\n",
    "mass_to_species = {\n",
    "    \"M2\": \"H2\",\n",
    "    \"M4\": \"He\",\n",
    "    \"M15\": \"CH4\",\n",
    "    \"M18\": \"H2O\",\n",
    "    \"M26\": \"C2H2\",\n",
    "    \"M28\": \"CO/N2\",\n",
    "    \"M32\": \"O2\",\n",
    "    \"M40\": \"Ar\",\n",
    "    \"M44\": \"CO2\",\n",
    "}\n",
    "\n",
    "all_intervals = [\n",
    "    (START_TIME + STEP_TIME*(x+1)-TIME_AMOUNT_AVERAGE_OVER, START_TIME + STEP_TIME*(x+1))\n",
    "    for x in range(ecms.selector._data[-1] + 1)\n",
    "]\n",
    "\n",
    "\n",
    "all_currents = []\n",
    "for i, interval in enumerate(all_intervals):\n",
    "    interval_currents = [i, *interval]\n",
    "    for mass in mass_list:\n",
    "        interval_currents.append(ecms.grab(f\"{mass} [A]\", tspan=interval)[1].mean())\n",
    "\n",
    "    all_currents.append(interval_currents)\n",
    "\n",
    "\n",
    "all_currents\n",
    "\n",
    "column_names = [\"step num\", \"start time\", \"end time\",] + [f\"{mass_to_species[x]} ave MS current [A]\" for x in mass_list]\n",
    "\n",
    "ms_currents_data = pd.DataFrame(all_currents, columns=column_names)"
   ]
  },
  {
   "cell_type": "code",
   "execution_count": null,
   "metadata": {},
   "outputs": [],
   "source": [
    "ms_currents_data"
   ]
  },
  {
   "cell_type": "markdown",
   "metadata": {},
   "source": [
    "uncomment the following to save data in same folder as tsv file"
   ]
  },
  {
   "cell_type": "code",
   "execution_count": null,
   "metadata": {},
   "outputs": [],
   "source": [
    "# ms_currents_data.to_csv(os.path.join(TSV_FILE_DIR, \"all_ms_currents.csv\"), index=False)"
   ]
  },
  {
   "cell_type": "code",
   "execution_count": null,
   "metadata": {},
   "outputs": [],
   "source": []
  }
 ],
 "metadata": {
  "kernelspec": {
   "display_name": "ecms",
   "language": "python",
   "name": "python3"
  },
  "language_info": {
   "codemirror_mode": {
    "name": "ipython",
    "version": 3
   },
   "file_extension": ".py",
   "mimetype": "text/x-python",
   "name": "python",
   "nbconvert_exporter": "python",
   "pygments_lexer": "ipython3",
   "version": "3.12.4"
  }
 },
 "nbformat": 4,
 "nbformat_minor": 2
}
